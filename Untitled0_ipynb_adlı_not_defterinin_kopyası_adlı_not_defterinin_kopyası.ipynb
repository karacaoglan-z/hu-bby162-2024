{
  "nbformat": 4,
  "nbformat_minor": 0,
  "metadata": {
    "colab": {
      "provenance": [],
      "authorship_tag": "ABX9TyMML/TSKlnXFQ+qG4qJCY3M",
      "include_colab_link": true
    },
    "kernelspec": {
      "name": "python3",
      "display_name": "Python 3"
    },
    "language_info": {
      "name": "python"
    }
  },
  "cells": [
    {
      "cell_type": "markdown",
      "metadata": {
        "id": "view-in-github",
        "colab_type": "text"
      },
      "source": [
        "<a href=\"https://colab.research.google.com/github/karacaoglan-z/hu-bby162-2024/blob/main/Untitled0_ipynb_adl%C4%B1_not_defterinin_kopyas%C4%B1_adl%C4%B1_not_defterinin_kopyas%C4%B1.ipynb\" target=\"_parent\"><img src=\"https://colab.research.google.com/assets/colab-badge.svg\" alt=\"Open In Colab\"/></a>"
      ]
    },
    {
      "cell_type": "code",
      "execution_count": 1,
      "metadata": {
        "id": "NlpHSz4UQ05W"
      },
      "outputs": [],
      "source": [
        "#Sözlüğün oluşturulması\n",
        "#Konu: Şiir terimleri\n",
        "sozluk ={\"Vezin\": \"Şiirde hecelerin sayısı veya niteliği bakımından birbirine denk olması ile oluşan ölçü birimleri.\",\"Uyak\" : \"Mısra sonlarında yer alan ses benzerlikleri.\",\"Redif\" : \"Mısra sonlarında,görevleri aynı olan eklerin veya aynı anlamdaki kelimelerin tekrarlanması.\",\"Teşbih\":\"Edebi metinde iki farklı unsurdan birinin diğerine benzetilmesi.\",\"İstiare\": \"Benzetmenin iki temel öğesinden yalnızca biriyle yapılan edebi sanat.\",\"Teşhis\": \"İnsan dışındaki varlıklara insana ait özelliklerin verilmesi ile yapılan edebi sanat.\",\"Koçaklama\":\"Yiğitlikleri veya savaşları anlatan şiirler.\",\"Taşlama\":\"Yergi amaçlı şiirler\" , \"Ağıt\": \"Ölen birinin ardından yazılan yas şiirleri\",\"Koşma\" : \"Bir kimseyi öven şiirler.\"}"
      ]
    },
    {
      "cell_type": "code",
      "source": [
        "#Sözlüğün yazdırılması\n",
        "print(sozluk)"
      ],
      "metadata": {
        "colab": {
          "base_uri": "https://localhost:8080/"
        },
        "id": "0UjPQY9vbaQq",
        "outputId": "1feb210f-87d2-4cd9-c0ba-5d4c0bb43192"
      },
      "execution_count": null,
      "outputs": [
        {
          "output_type": "stream",
          "name": "stdout",
          "text": [
            "{'Vezin': 'Şiirde hecelerin sayısı veya niteliği bakımından birbirine denk olması ile oluşan ölçü birimleri.', 'Uyak': 'Mısra sonlarında yer alan ses benzerlikleri.', 'Redif': 'Mısra sonlarında,görevleri aynı olan eklerin veya aynı anlamdaki kelimelerin tekrarlanması.', 'Teşbih': 'Edebi metinde iki farklı unsurdan birinin diğerine benzetilmesi.', 'İstiare': 'Benzetmenin iki temel öğesinden yalnızca biriyle yapılan edebi sanat.', 'Teşhis': 'İnsan dışındaki varlıklara insana ait özelliklerin verilmesi ile yapılan edebi sanat.', 'Koçaklama': 'Yiğitlikleri veya savaşları anlatan şiirler.', 'Taşlama': 'Yergi amaçlı şiirler', 'Ağıt': 'Ölen birinin ardından yazılan yas şiirleri', 'Koşma': 'Bir kimseyi öven şiirler.'}\n"
          ]
        }
      ]
    },
    {
      "cell_type": "code",
      "source": [
        "#Sözlüğe yeni öğe eklenmesi\n",
        "kelime = input(\"Yeni eklenecek kelimeyi giriniz: \")\n",
        "aciklama = input(\"Yeni kelimenin açıklamasını giriniz: \")\n",
        "sozluk[kelime] = aciklama"
      ],
      "metadata": {
        "colab": {
          "base_uri": "https://localhost:8080/"
        },
        "id": "tbsR-6incNT_",
        "outputId": "5fd35375-94a8-4908-da33-585732a51855"
      },
      "execution_count": null,
      "outputs": [
        {
          "name": "stdout",
          "output_type": "stream",
          "text": [
            "Yeni eklenecek kelimeyi giriniz: söyleyici\n",
            "Yeni kelimenin açıklamasını giriniz: Şiirde konuşan,şairin sesini ve söyleyişini emanet ettiği kişi veya varlık.\n"
          ]
        }
      ]
    },
    {
      "cell_type": "code",
      "source": [
        "#Sözlükteki bir öğenin silinmesi\n",
        "print(sozluk)\n",
        "silinecek = (input(\"Silmek istediğiniz kelimeyi giriniz: \"))\n",
        "print(\"Silinecek kelime: \")\n",
        "del sozluk[silinecek]\n",
        "print(\"Silme tamamlandı\")\n",
        "print(sozluk)"
      ],
      "metadata": {
        "colab": {
          "base_uri": "https://localhost:8080/"
        },
        "id": "aX4r5BHuebXj",
        "outputId": "50442ee3-19c9-4d39-e6c1-ea617e186b10"
      },
      "execution_count": null,
      "outputs": [
        {
          "output_type": "stream",
          "name": "stdout",
          "text": [
            "{'Vezin': 'Şiirde hecelerin sayısı veya niteliği bakımından birbirine denk olması ile oluşan ölçü birimleri.', 'Uyak': 'Mısra sonlarında yer alan ses benzerlikleri.', 'Redif': 'Mısra sonlarında,görevleri aynı olan eklerin veya aynı anlamdaki kelimelerin tekrarlanması.', 'Teşbih': 'Edebi metinde iki farklı unsurdan birinin diğerine benzetilmesi.', 'İstiare': 'Benzetmenin iki temel öğesinden yalnızca biriyle yapılan edebi sanat.', 'Teşhis': 'İnsan dışındaki varlıklara insana ait özelliklerin verilmesi ile yapılan edebi sanat.', 'Koçaklama': 'Yiğitlikleri veya savaşları anlatan şiirler.', 'Taşlama': 'Yergi amaçlı şiirler', 'Ağıt': 'Ölen birinin ardından yazılan yas şiirleri', 'Koşma': 'Bir kimseyi öven şiirler.', 'söyleyici': 'Şiirde konuşan,şairin sesini ve söyleyişini emanet ettiği kişi veya varlık.'}\n",
            "Silmek istediğiniz kelimeyi giriniz: Vezin\n",
            "Silinecek kelime: \n",
            "Silme tamamlandı\n",
            "{'Uyak': 'Mısra sonlarında yer alan ses benzerlikleri.', 'Redif': 'Mısra sonlarında,görevleri aynı olan eklerin veya aynı anlamdaki kelimelerin tekrarlanması.', 'Teşbih': 'Edebi metinde iki farklı unsurdan birinin diğerine benzetilmesi.', 'İstiare': 'Benzetmenin iki temel öğesinden yalnızca biriyle yapılan edebi sanat.', 'Teşhis': 'İnsan dışındaki varlıklara insana ait özelliklerin verilmesi ile yapılan edebi sanat.', 'Koçaklama': 'Yiğitlikleri veya savaşları anlatan şiirler.', 'Taşlama': 'Yergi amaçlı şiirler', 'Ağıt': 'Ölen birinin ardından yazılan yas şiirleri', 'Koşma': 'Bir kimseyi öven şiirler.', 'söyleyici': 'Şiirde konuşan,şairin sesini ve söyleyişini emanet ettiği kişi veya varlık.'}\n"
          ]
        }
      ]
    },
    {
      "cell_type": "code",
      "source": [
        "#Sözlğkteki bir öğenin güncellenmesi\n",
        "print(sozluk)\n",
        "guncellenecek = (input(\"Güncellemek istediğiniz kelimeyi giriniz: \"))\n",
        "print(\"Güncellenecek kelime: \")\n",
        "guncelSozluk = input(\"Güncel kelime bilgisini giriniz: \")\n",
        "sozluk[guncellenecek] = guncelSozluk\n",
        "print(\"Güncelleme tamamlandı\")\n",
        "print(sozluk)"
      ],
      "metadata": {
        "colab": {
          "base_uri": "https://localhost:8080/"
        },
        "id": "GwCqbWVDfr6O",
        "outputId": "10c54b4a-c848-407b-b3d9-510ac184972d"
      },
      "execution_count": null,
      "outputs": [
        {
          "output_type": "stream",
          "name": "stdout",
          "text": [
            "{'Uyak': 'Mısra sonlarında yer alan ses benzerlikleri.', 'Redif': 'Mısra sonlarında,görevleri aynı olan eklerin veya aynı anlamdaki kelimelerin tekrarlanması.', 'Teşbih': 'Edebi metinde iki farklı unsurdan birinin diğerine benzetilmesi.', 'İstiare': 'Benzetmenin iki temel öğesinden yalnızca biriyle yapılan edebi sanat.', 'Teşhis': 'İnsan dışındaki varlıklara insana ait özelliklerin verilmesi ile yapılan edebi sanat.', 'Koçaklama': 'Yiğitlikleri veya savaşları anlatan şiirler.', 'Taşlama': 'Yergi amaçlı şiirler', 'Ağıt': 'Ölen birinin ardından yazılan yas şiirleri', 'Koşma': 'Bir kimseyi öven şiirler.', 'söyleyici': 'Şiirde konuşan,şairin sesini ve söyleyişini emanet ettiği kişi veya varlık.'}\n",
            "Güncellemek istediğiniz kelimeyi giriniz: Teşbih\n",
            "Güncellenecek kelime: \n",
            "Güncel kelime bilgisini giriniz: Benzetme\n",
            "Güncelleme tamamlandı\n",
            "{'Uyak': 'Mısra sonlarında yer alan ses benzerlikleri.', 'Redif': 'Mısra sonlarında,görevleri aynı olan eklerin veya aynı anlamdaki kelimelerin tekrarlanması.', 'Teşbih': 'Benzetme', 'İstiare': 'Benzetmenin iki temel öğesinden yalnızca biriyle yapılan edebi sanat.', 'Teşhis': 'İnsan dışındaki varlıklara insana ait özelliklerin verilmesi ile yapılan edebi sanat.', 'Koçaklama': 'Yiğitlikleri veya savaşları anlatan şiirler.', 'Taşlama': 'Yergi amaçlı şiirler', 'Ağıt': 'Ölen birinin ardından yazılan yas şiirleri', 'Koşma': 'Bir kimseyi öven şiirler.', 'söyleyici': 'Şiirde konuşan,şairin sesini ve söyleyişini emanet ettiği kişi veya varlık.'}\n"
          ]
        }
      ]
    },
    {
      "cell_type": "code",
      "source": [
        "#Sözlükte arama yapılması\n",
        "print(\"Uyak\" in sozluk.keys())\n",
        "sozluk[\"Uyak\"]\n",
        "\n"
      ],
      "metadata": {
        "colab": {
          "base_uri": "https://localhost:8080/",
          "height": 53
        },
        "id": "X4oLNbrHhGwB",
        "outputId": "800eb547-d441-4207-a33a-30b63eb94579"
      },
      "execution_count": null,
      "outputs": [
        {
          "output_type": "stream",
          "name": "stdout",
          "text": [
            "True\n"
          ]
        },
        {
          "output_type": "execute_result",
          "data": {
            "text/plain": [
              "'Mısra sonlarında yer alan ses benzerlikleri.'"
            ],
            "application/vnd.google.colaboratory.intrinsic+json": {
              "type": "string"
            }
          },
          "metadata": {},
          "execution_count": 15
        }
      ]
    }
  ]
}